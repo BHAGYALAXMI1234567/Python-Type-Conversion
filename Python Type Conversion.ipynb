{
 "cells": [
  {
   "cell_type": "code",
   "execution_count": 1,
   "id": "8be57769-6d0c-4e23-a40c-5d3e396e89a5",
   "metadata": {},
   "outputs": [
    {
     "name": "stdout",
     "output_type": "stream",
     "text": [
      "integer number= 5\n",
      "floating-point number= 5.0\n"
     ]
    }
   ],
   "source": [
    "#To convert an integer to floating-point number\n",
    "integer_number=5\n",
    "floating_point_number=float(integer_number)\n",
    "print(\"integer number=\",integer_number)\n",
    "print(\"floating-point number=\",floating_point_number)"
   ]
  },
  {
   "cell_type": "code",
   "execution_count": 2,
   "id": "eb659eae-e848-4929-8950-420a091ced3d",
   "metadata": {},
   "outputs": [
    {
     "name": "stdout",
     "output_type": "stream",
     "text": [
      "floating-point number= 7.0\n",
      "integer number= 7\n"
     ]
    }
   ],
   "source": [
    "#To convert a float to an integer\n",
    "floating_point_number1=7.0\n",
    "integer_number1=int(floating_point_number1)\n",
    "print(\"floating-point number=\",floating_point_number1)\n",
    "print(\"integer number=\",integer_number1)"
   ]
  },
  {
   "cell_type": "code",
   "execution_count": 3,
   "id": "9ef880a6-d5ae-481a-bb01-d4d96668ac25",
   "metadata": {},
   "outputs": [
    {
     "name": "stdout",
     "output_type": "stream",
     "text": [
      "integer number= 9\n",
      "string number= 9\n",
      "<class 'str'>\n"
     ]
    }
   ],
   "source": [
    "#To convert an integer to string\n",
    "integer_number2=9\n",
    "string_number= str(integer_number2)\n",
    "print(\"integer number=\",integer_number2)\n",
    "print(\"string number=\",string_number)\n",
    "print(type(string_number))"
   ]
  },
  {
   "cell_type": "code",
   "execution_count": 4,
   "id": "8d68b406-49ff-4288-8c66-e22d33fd6e94",
   "metadata": {},
   "outputs": [
    {
     "name": "stdout",
     "output_type": "stream",
     "text": [
      "<class 'list'>\n",
      "<class 'tuple'>\n",
      "list= [1, 2, 'a', 5.0]\n",
      "tuple= (1, 2, 'a', 5.0)\n"
     ]
    }
   ],
   "source": [
    "#To convert a list to a tuple\n",
    "list_created=[1,2,'a',5.0]\n",
    "print(type(list_created))\n",
    "converted_tuple=tuple(list_created)\n",
    "print(type(converted_tuple))\n",
    "print('list=',list_created)\n",
    "print('tuple=',converted_tuple)"
   ]
  },
  {
   "cell_type": "code",
   "execution_count": 5,
   "id": "7892f507-1c52-47a7-b920-3e35213779e9",
   "metadata": {},
   "outputs": [
    {
     "name": "stdout",
     "output_type": "stream",
     "text": [
      "<class 'tuple'>\n",
      "<class 'list'>\n",
      "tuple= (1, 2, 'a', 5.0)\n",
      "list= [1, 2, 'a', 5.0]\n"
     ]
    }
   ],
   "source": [
    "#To convert a tuple to a list\n",
    "tuple_created=(1,2,'a',5.0)\n",
    "print(type(tuple_created))\n",
    "converted_list=list(tuple_created)\n",
    "print(type(converted_list))\n",
    "print('tuple=',tuple_created)\n",
    "print('list=',converted_list)"
   ]
  },
  {
   "cell_type": "code",
   "execution_count": 6,
   "id": "360b8de2-b3d8-4700-bbb2-6e2aeece12af",
   "metadata": {},
   "outputs": [
    {
     "name": "stdout",
     "output_type": "stream",
     "text": [
      "decimal number= 4\n",
      "binary number= 0b100\n"
     ]
    }
   ],
   "source": [
    "#To convert a decimal number to binary number\n",
    "decimal_number=4\n",
    "binary_number=bin(decimal_number)\n",
    "print('decimal number=',decimal_number)\n",
    "print('binary number=',binary_number)"
   ]
  },
  {
   "cell_type": "code",
   "execution_count": 7,
   "id": "c5b086b8-8df7-471c-85cc-8238c001affc",
   "metadata": {},
   "outputs": [
    {
     "name": "stdout",
     "output_type": "stream",
     "text": [
      "non zero number= 1\n",
      "boolean number= True\n"
     ]
    }
   ],
   "source": [
    "#To convert a non zero number to boolean\n",
    "non_zero_number= 1\n",
    "boolean_number=bool(binary_number)\n",
    "print('non zero number=', non_zero_number)\n",
    "print('boolean number=',boolean_number)"
   ]
  }
 ],
 "metadata": {
  "kernelspec": {
   "display_name": "Python 3 (ipykernel)",
   "language": "python",
   "name": "python3"
  },
  "language_info": {
   "codemirror_mode": {
    "name": "ipython",
    "version": 3
   },
   "file_extension": ".py",
   "mimetype": "text/x-python",
   "name": "python",
   "nbconvert_exporter": "python",
   "pygments_lexer": "ipython3",
   "version": "3.10.8"
  }
 },
 "nbformat": 4,
 "nbformat_minor": 5
}
